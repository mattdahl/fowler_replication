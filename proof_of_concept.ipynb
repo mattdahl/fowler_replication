{
 "cells": [
  {
   "cell_type": "markdown",
   "id": "975fb6cd",
   "metadata": {},
   "source": [
    "Setup\n",
    "-----"
   ]
  },
  {
   "cell_type": "code",
   "execution_count": 1,
   "id": "9b79571c",
   "metadata": {},
   "outputs": [],
   "source": [
    "import pandas as pd\n",
    "\n",
    "# Load data\n",
    "fowler_data = pd.read_stata('Pol_Analysis_replication.dta')\n",
    "fowler_cites = pd.read_csv('Pol_Analysis_ussc_cites.csv')"
   ]
  },
  {
   "cell_type": "markdown",
   "id": "fe8b711f",
   "metadata": {},
   "source": [
    "First, get the number of distinct cases in the dataset. According to the paper, this should equal 26,681, which it does."
   ]
  },
  {
   "cell_type": "code",
   "execution_count": 2,
   "id": "426db2ab",
   "metadata": {},
   "outputs": [
    {
     "name": "stdout",
     "output_type": "stream",
     "text": [
      "26681\n"
     ]
    }
   ],
   "source": [
    "# Get distinct cases in dataset\n",
    "fowler_cases = fowler_data.drop_duplicates('lexid')\n",
    "print(len(fowler_cases))"
   ]
  },
  {
   "cell_type": "markdown",
   "id": "e72d21fa",
   "metadata": {},
   "source": [
    "Next, calculate how many citation dyads are included in the replication data."
   ]
  },
  {
   "cell_type": "code",
   "execution_count": 3,
   "id": "4155924d",
   "metadata": {},
   "outputs": [
    {
     "name": "stdout",
     "output_type": "stream",
     "text": [
      "202167\n"
     ]
    }
   ],
   "source": [
    "print(len(fowler_cites))"
   ]
  },
  {
   "cell_type": "markdown",
   "id": "0c92b721",
   "metadata": {},
   "source": [
    "But what happens when we drop dyads that reference cases that are NOT in the master 26,681 set of cases?"
   ]
  },
  {
   "cell_type": "code",
   "execution_count": 4,
   "id": "4e03a64f",
   "metadata": {},
   "outputs": [
    {
     "name": "stdout",
     "output_type": "stream",
     "text": [
      "182040\n"
     ]
    }
   ],
   "source": [
    "fowler_cites_cleaned = fowler_cites[fowler_cites['citing_case'].isin(fowler_data['lexid']).tolist()]\n",
    "fowler_cites_cleaned = fowler_cites_cleaned[fowler_cites_cleaned['cited_case'].isin(fowler_data['lexid']).tolist()]\n",
    "print(len(fowler_cites_cleaned))"
   ]
  },
  {
   "cell_type": "markdown",
   "id": "e49ed3d7",
   "metadata": {},
   "source": [
    "First question:\n",
    "-----------------\n",
    "Why are ~20,000 citation dyads included in the citation data if they are dyads between cases that are not included in the 26,681 master set?\n",
    "\n",
    "For example, these cases are cited but they are not included in the 26,681 master set:"
   ]
  },
  {
   "cell_type": "code",
   "execution_count": 5,
   "id": "28058335",
   "metadata": {},
   "outputs": [
    {
     "data": {
      "text/html": [
       "<div>\n",
       "<style scoped>\n",
       "    .dataframe tbody tr th:only-of-type {\n",
       "        vertical-align: middle;\n",
       "    }\n",
       "\n",
       "    .dataframe tbody tr th {\n",
       "        vertical-align: top;\n",
       "    }\n",
       "\n",
       "    .dataframe thead th {\n",
       "        text-align: right;\n",
       "    }\n",
       "</style>\n",
       "<table border=\"1\" class=\"dataframe\">\n",
       "  <thead>\n",
       "    <tr style=\"text-align: right;\">\n",
       "      <th></th>\n",
       "      <th>cited_case</th>\n",
       "      <th>citing_case</th>\n",
       "    </tr>\n",
       "  </thead>\n",
       "  <tbody>\n",
       "    <tr>\n",
       "      <th>19040</th>\n",
       "      <td>1886 U.S. LEXIS 1920</td>\n",
       "      <td>1887 U.S. LEXIS 2151</td>\n",
       "    </tr>\n",
       "    <tr>\n",
       "      <th>21875</th>\n",
       "      <td>1886 U.S. LEXIS 1920</td>\n",
       "      <td>1890 U.S. LEXIS 1921</td>\n",
       "    </tr>\n",
       "    <tr>\n",
       "      <th>23687</th>\n",
       "      <td>1886 U.S. LEXIS 1920</td>\n",
       "      <td>1891 U.S. LEXIS 2363</td>\n",
       "    </tr>\n",
       "    <tr>\n",
       "      <th>24355</th>\n",
       "      <td>1891 U.S. LEXIS 2471</td>\n",
       "      <td>1891 U.S. LEXIS 2486</td>\n",
       "    </tr>\n",
       "    <tr>\n",
       "      <th>28023</th>\n",
       "      <td>1886 U.S. LEXIS 1920</td>\n",
       "      <td>1893 U.S. LEXIS 2360</td>\n",
       "    </tr>\n",
       "    <tr>\n",
       "      <th>...</th>\n",
       "      <td>...</td>\n",
       "      <td>...</td>\n",
       "    </tr>\n",
       "    <tr>\n",
       "      <th>201872</th>\n",
       "      <td>1992 U.S. LEXIS 6805</td>\n",
       "      <td>2005 U.S. LEXIS 4817</td>\n",
       "    </tr>\n",
       "    <tr>\n",
       "      <th>201908</th>\n",
       "      <td>1995 U.S. LEXIS 3181</td>\n",
       "      <td>2005 U.S. LEXIS 4842</td>\n",
       "    </tr>\n",
       "    <tr>\n",
       "      <th>201969</th>\n",
       "      <td>2000 U.S. LEXIS 1540</td>\n",
       "      <td>2005 U.S. LEXIS 5011</td>\n",
       "    </tr>\n",
       "    <tr>\n",
       "      <th>201984</th>\n",
       "      <td>2001 U.S. LEXIS 641</td>\n",
       "      <td>2005 U.S. LEXIS 5014</td>\n",
       "    </tr>\n",
       "    <tr>\n",
       "      <th>202132</th>\n",
       "      <td>1992 U.S. LEXIS 6805</td>\n",
       "      <td>2005 U.S. LEXIS 946</td>\n",
       "    </tr>\n",
       "  </tbody>\n",
       "</table>\n",
       "<p>2815 rows × 2 columns</p>\n",
       "</div>"
      ],
      "text/plain": [
       "                  cited_case           citing_case\n",
       "19040   1886 U.S. LEXIS 1920  1887 U.S. LEXIS 2151\n",
       "21875   1886 U.S. LEXIS 1920  1890 U.S. LEXIS 1921\n",
       "23687   1886 U.S. LEXIS 1920  1891 U.S. LEXIS 2363\n",
       "24355   1891 U.S. LEXIS 2471  1891 U.S. LEXIS 2486\n",
       "28023   1886 U.S. LEXIS 1920  1893 U.S. LEXIS 2360\n",
       "...                      ...                   ...\n",
       "201872  1992 U.S. LEXIS 6805  2005 U.S. LEXIS 4817\n",
       "201908  1995 U.S. LEXIS 3181  2005 U.S. LEXIS 4842\n",
       "201969  2000 U.S. LEXIS 1540  2005 U.S. LEXIS 5011\n",
       "201984   2001 U.S. LEXIS 641  2005 U.S. LEXIS 5014\n",
       "202132  1992 U.S. LEXIS 6805   2005 U.S. LEXIS 946\n",
       "\n",
       "[2815 rows x 2 columns]"
      ]
     },
     "execution_count": 5,
     "metadata": {},
     "output_type": "execute_result"
    }
   ],
   "source": [
    "fowler_cites[(~fowler_cites['cited_case'].isin(fowler_data['lexid'])).tolist()]"
   ]
  },
  {
   "cell_type": "markdown",
   "id": "ca5c9040",
   "metadata": {},
   "source": [
    "Likewise, these cases are recorded as citing, but they are not included in the 26,681 master set:"
   ]
  },
  {
   "cell_type": "code",
   "execution_count": 6,
   "id": "13676053",
   "metadata": {},
   "outputs": [
    {
     "data": {
      "text/html": [
       "<div>\n",
       "<style scoped>\n",
       "    .dataframe tbody tr th:only-of-type {\n",
       "        vertical-align: middle;\n",
       "    }\n",
       "\n",
       "    .dataframe tbody tr th {\n",
       "        vertical-align: top;\n",
       "    }\n",
       "\n",
       "    .dataframe thead th {\n",
       "        text-align: right;\n",
       "    }\n",
       "</style>\n",
       "<table border=\"1\" class=\"dataframe\">\n",
       "  <thead>\n",
       "    <tr style=\"text-align: right;\">\n",
       "      <th></th>\n",
       "      <th>cited_case</th>\n",
       "      <th>citing_case</th>\n",
       "    </tr>\n",
       "  </thead>\n",
       "  <tbody>\n",
       "    <tr>\n",
       "      <th>4080</th>\n",
       "      <td>1957 U.S. LEXIS 1627</td>\n",
       "      <td>1858 U.S. LEXIS 1794</td>\n",
       "    </tr>\n",
       "    <tr>\n",
       "      <th>17816</th>\n",
       "      <td>1886 U.S. LEXIS 1956</td>\n",
       "      <td>1886 U.S. LEXIS 1957</td>\n",
       "    </tr>\n",
       "    <tr>\n",
       "      <th>18062</th>\n",
       "      <td>1887 U.S. LEXIS 2054</td>\n",
       "      <td>1886 U.S. LEXIS 2228</td>\n",
       "    </tr>\n",
       "    <tr>\n",
       "      <th>18063</th>\n",
       "      <td>1885 U.S. LEXIS 1839</td>\n",
       "      <td>1886 U.S. LEXIS 2236</td>\n",
       "    </tr>\n",
       "    <tr>\n",
       "      <th>19351</th>\n",
       "      <td>1887 U.S. LEXIS 2035</td>\n",
       "      <td>1887 U.S. LEXIS 2530</td>\n",
       "    </tr>\n",
       "    <tr>\n",
       "      <th>...</th>\n",
       "      <td>...</td>\n",
       "      <td>...</td>\n",
       "    </tr>\n",
       "    <tr>\n",
       "      <th>202162</th>\n",
       "      <td>2005 U.S. LEXIS 628</td>\n",
       "      <td>2005 U.S. LEXIS 998</td>\n",
       "    </tr>\n",
       "    <tr>\n",
       "      <th>202163</th>\n",
       "      <td>2005 U.S. LEXIS 628</td>\n",
       "      <td>2005 U.S. LEXIS 999</td>\n",
       "    </tr>\n",
       "    <tr>\n",
       "      <th>202164</th>\n",
       "      <td>1973 U.S. LEXIS 154</td>\n",
       "      <td>2006 U.S. LEXIS 1816</td>\n",
       "    </tr>\n",
       "    <tr>\n",
       "      <th>202165</th>\n",
       "      <td>1973 U.S. LEXIS 154</td>\n",
       "      <td>2006 U.S. LEXIS 4895</td>\n",
       "    </tr>\n",
       "    <tr>\n",
       "      <th>202166</th>\n",
       "      <td>1986 U.S. LEXIS 38</td>\n",
       "      <td>2006 U.S. LEXIS 5176</td>\n",
       "    </tr>\n",
       "  </tbody>\n",
       "</table>\n",
       "<p>18440 rows × 2 columns</p>\n",
       "</div>"
      ],
      "text/plain": [
       "                  cited_case           citing_case\n",
       "4080    1957 U.S. LEXIS 1627  1858 U.S. LEXIS 1794\n",
       "17816   1886 U.S. LEXIS 1956  1886 U.S. LEXIS 1957\n",
       "18062   1887 U.S. LEXIS 2054  1886 U.S. LEXIS 2228\n",
       "18063   1885 U.S. LEXIS 1839  1886 U.S. LEXIS 2236\n",
       "19351   1887 U.S. LEXIS 2035  1887 U.S. LEXIS 2530\n",
       "...                      ...                   ...\n",
       "202162   2005 U.S. LEXIS 628   2005 U.S. LEXIS 998\n",
       "202163   2005 U.S. LEXIS 628   2005 U.S. LEXIS 999\n",
       "202164   1973 U.S. LEXIS 154  2006 U.S. LEXIS 1816\n",
       "202165   1973 U.S. LEXIS 154  2006 U.S. LEXIS 4895\n",
       "202166    1986 U.S. LEXIS 38  2006 U.S. LEXIS 5176\n",
       "\n",
       "[18440 rows x 2 columns]"
      ]
     },
     "execution_count": 6,
     "metadata": {},
     "output_type": "execute_result"
    }
   ],
   "source": [
    "fowler_cites[(~fowler_cites['citing_case'].isin(fowler_data['lexid'])).tolist()]"
   ]
  },
  {
   "cell_type": "markdown",
   "id": "17315224",
   "metadata": {},
   "source": [
    "Second question:\n",
    "---------------\n",
    "\n",
    "Why are some dyads simply duplicated?"
   ]
  },
  {
   "cell_type": "code",
   "execution_count": 7,
   "id": "86e79ef7",
   "metadata": {},
   "outputs": [
    {
     "data": {
      "text/html": [
       "<div>\n",
       "<style scoped>\n",
       "    .dataframe tbody tr th:only-of-type {\n",
       "        vertical-align: middle;\n",
       "    }\n",
       "\n",
       "    .dataframe tbody tr th {\n",
       "        vertical-align: top;\n",
       "    }\n",
       "\n",
       "    .dataframe thead th {\n",
       "        text-align: right;\n",
       "    }\n",
       "</style>\n",
       "<table border=\"1\" class=\"dataframe\">\n",
       "  <thead>\n",
       "    <tr style=\"text-align: right;\">\n",
       "      <th></th>\n",
       "      <th>cited_case</th>\n",
       "      <th>citing_case</th>\n",
       "    </tr>\n",
       "  </thead>\n",
       "  <tbody>\n",
       "    <tr>\n",
       "      <th>86</th>\n",
       "      <td>1807 U.S. LEXIS 382</td>\n",
       "      <td>1810 U.S. LEXIS 343</td>\n",
       "    </tr>\n",
       "    <tr>\n",
       "      <th>87</th>\n",
       "      <td>1807 U.S. LEXIS 382</td>\n",
       "      <td>1810 U.S. LEXIS 343</td>\n",
       "    </tr>\n",
       "    <tr>\n",
       "      <th>158</th>\n",
       "      <td>1796 U.S. LEXIS 399</td>\n",
       "      <td>1816 U.S. LEXIS 327</td>\n",
       "    </tr>\n",
       "    <tr>\n",
       "      <th>160</th>\n",
       "      <td>1796 U.S. LEXIS 399</td>\n",
       "      <td>1816 U.S. LEXIS 327</td>\n",
       "    </tr>\n",
       "    <tr>\n",
       "      <th>444</th>\n",
       "      <td>1803 U.S. LEXIS 352</td>\n",
       "      <td>1821 U.S. LEXIS 362</td>\n",
       "    </tr>\n",
       "    <tr>\n",
       "      <th>...</th>\n",
       "      <td>...</td>\n",
       "      <td>...</td>\n",
       "    </tr>\n",
       "    <tr>\n",
       "      <th>201764</th>\n",
       "      <td>1987 U.S. LEXIS 2980</td>\n",
       "      <td>2005 U.S. LEXIS 4342</td>\n",
       "    </tr>\n",
       "    <tr>\n",
       "      <th>201766</th>\n",
       "      <td>1994 U.S. LEXIS 4826</td>\n",
       "      <td>2005 U.S. LEXIS 4342</td>\n",
       "    </tr>\n",
       "    <tr>\n",
       "      <th>201881</th>\n",
       "      <td>1995 U.S. LEXIS 4069</td>\n",
       "      <td>2005 U.S. LEXIS 4839</td>\n",
       "    </tr>\n",
       "    <tr>\n",
       "      <th>201882</th>\n",
       "      <td>1995 U.S. LEXIS 4069</td>\n",
       "      <td>2005 U.S. LEXIS 4839</td>\n",
       "    </tr>\n",
       "    <tr>\n",
       "      <th>201886</th>\n",
       "      <td>1995 U.S. LEXIS 4069</td>\n",
       "      <td>2005 U.S. LEXIS 4839</td>\n",
       "    </tr>\n",
       "  </tbody>\n",
       "</table>\n",
       "<p>890 rows × 2 columns</p>\n",
       "</div>"
      ],
      "text/plain": [
       "                  cited_case           citing_case\n",
       "86       1807 U.S. LEXIS 382   1810 U.S. LEXIS 343\n",
       "87       1807 U.S. LEXIS 382   1810 U.S. LEXIS 343\n",
       "158      1796 U.S. LEXIS 399   1816 U.S. LEXIS 327\n",
       "160      1796 U.S. LEXIS 399   1816 U.S. LEXIS 327\n",
       "444      1803 U.S. LEXIS 352   1821 U.S. LEXIS 362\n",
       "...                      ...                   ...\n",
       "201764  1987 U.S. LEXIS 2980  2005 U.S. LEXIS 4342\n",
       "201766  1994 U.S. LEXIS 4826  2005 U.S. LEXIS 4342\n",
       "201881  1995 U.S. LEXIS 4069  2005 U.S. LEXIS 4839\n",
       "201882  1995 U.S. LEXIS 4069  2005 U.S. LEXIS 4839\n",
       "201886  1995 U.S. LEXIS 4069  2005 U.S. LEXIS 4839\n",
       "\n",
       "[890 rows x 2 columns]"
      ]
     },
     "execution_count": 7,
     "metadata": {},
     "output_type": "execute_result"
    }
   ],
   "source": [
    "fowler_cites[fowler_cites.duplicated(keep=False)]"
   ]
  },
  {
   "cell_type": "markdown",
   "id": "7dff7a76",
   "metadata": {},
   "source": [
    "Third question:\n",
    "---------------\n",
    "\n",
    "Why do some dyads record citations citing *future* cases?"
   ]
  },
  {
   "cell_type": "code",
   "execution_count": 8,
   "id": "1c8394d6",
   "metadata": {},
   "outputs": [
    {
     "data": {
      "text/html": [
       "<div>\n",
       "<style scoped>\n",
       "    .dataframe tbody tr th:only-of-type {\n",
       "        vertical-align: middle;\n",
       "    }\n",
       "\n",
       "    .dataframe tbody tr th {\n",
       "        vertical-align: top;\n",
       "    }\n",
       "\n",
       "    .dataframe thead th {\n",
       "        text-align: right;\n",
       "    }\n",
       "</style>\n",
       "<table border=\"1\" class=\"dataframe\">\n",
       "  <thead>\n",
       "    <tr style=\"text-align: right;\">\n",
       "      <th></th>\n",
       "      <th>cited_case</th>\n",
       "      <th>citing_case</th>\n",
       "      <th>citing_year</th>\n",
       "      <th>cited_year</th>\n",
       "    </tr>\n",
       "  </thead>\n",
       "  <tbody>\n",
       "    <tr>\n",
       "      <th>0</th>\n",
       "      <td>1796 U.S. LEXIS 409</td>\n",
       "      <td>1792 U.S. LEXIS 587</td>\n",
       "      <td>1792</td>\n",
       "      <td>1796</td>\n",
       "    </tr>\n",
       "    <tr>\n",
       "      <th>2</th>\n",
       "      <td>1796 U.S. LEXIS 409</td>\n",
       "      <td>1793 U.S. LEXIS 247</td>\n",
       "      <td>1793</td>\n",
       "      <td>1796</td>\n",
       "    </tr>\n",
       "    <tr>\n",
       "      <th>3</th>\n",
       "      <td>1796 U.S. LEXIS 409</td>\n",
       "      <td>1793 U.S. LEXIS 248</td>\n",
       "      <td>1793</td>\n",
       "      <td>1796</td>\n",
       "    </tr>\n",
       "    <tr>\n",
       "      <th>6</th>\n",
       "      <td>1798 U.S. LEXIS 145</td>\n",
       "      <td>1793 U.S. LEXIS 249</td>\n",
       "      <td>1793</td>\n",
       "      <td>1798</td>\n",
       "    </tr>\n",
       "    <tr>\n",
       "      <th>7</th>\n",
       "      <td>1950 U.S. LEXIS 2624</td>\n",
       "      <td>1793 U.S. LEXIS 249</td>\n",
       "      <td>1793</td>\n",
       "      <td>1950</td>\n",
       "    </tr>\n",
       "    <tr>\n",
       "      <th>...</th>\n",
       "      <td>...</td>\n",
       "      <td>...</td>\n",
       "      <td>...</td>\n",
       "      <td>...</td>\n",
       "    </tr>\n",
       "    <tr>\n",
       "      <th>169469</th>\n",
       "      <td>1988 U.S. LEXIS 2733</td>\n",
       "      <td>1983 U.S. LEXIS 83</td>\n",
       "      <td>1983</td>\n",
       "      <td>1988</td>\n",
       "    </tr>\n",
       "    <tr>\n",
       "      <th>170947</th>\n",
       "      <td>1985 U.S. LEXIS 17</td>\n",
       "      <td>1984 U.S. LEXIS 19</td>\n",
       "      <td>1984</td>\n",
       "      <td>1985</td>\n",
       "    </tr>\n",
       "    <tr>\n",
       "      <th>171099</th>\n",
       "      <td>1985 U.S. LEXIS 121</td>\n",
       "      <td>1984 U.S. LEXIS 2776</td>\n",
       "      <td>1984</td>\n",
       "      <td>1985</td>\n",
       "    </tr>\n",
       "    <tr>\n",
       "      <th>174241</th>\n",
       "      <td>1990 U.S. LEXIS 2294</td>\n",
       "      <td>1985 U.S. LEXIS 89</td>\n",
       "      <td>1985</td>\n",
       "      <td>1990</td>\n",
       "    </tr>\n",
       "    <tr>\n",
       "      <th>189908</th>\n",
       "      <td>1995 U.S. LEXIS 909</td>\n",
       "      <td>1994 U.S. LEXIS 4103</td>\n",
       "      <td>1994</td>\n",
       "      <td>1995</td>\n",
       "    </tr>\n",
       "  </tbody>\n",
       "</table>\n",
       "<p>275 rows × 4 columns</p>\n",
       "</div>"
      ],
      "text/plain": [
       "                  cited_case           citing_case citing_year cited_year\n",
       "0        1796 U.S. LEXIS 409   1792 U.S. LEXIS 587        1792       1796\n",
       "2        1796 U.S. LEXIS 409   1793 U.S. LEXIS 247        1793       1796\n",
       "3        1796 U.S. LEXIS 409   1793 U.S. LEXIS 248        1793       1796\n",
       "6        1798 U.S. LEXIS 145   1793 U.S. LEXIS 249        1793       1798\n",
       "7       1950 U.S. LEXIS 2624   1793 U.S. LEXIS 249        1793       1950\n",
       "...                      ...                   ...         ...        ...\n",
       "169469  1988 U.S. LEXIS 2733    1983 U.S. LEXIS 83        1983       1988\n",
       "170947    1985 U.S. LEXIS 17    1984 U.S. LEXIS 19        1984       1985\n",
       "171099   1985 U.S. LEXIS 121  1984 U.S. LEXIS 2776        1984       1985\n",
       "174241  1990 U.S. LEXIS 2294    1985 U.S. LEXIS 89        1985       1990\n",
       "189908   1995 U.S. LEXIS 909  1994 U.S. LEXIS 4103        1994       1995\n",
       "\n",
       "[275 rows x 4 columns]"
      ]
     },
     "execution_count": 8,
     "metadata": {},
     "output_type": "execute_result"
    }
   ],
   "source": [
    "fowler_cites['citing_year'] = fowler_cites.citing_case.str[:4]\n",
    "fowler_cites['cited_year'] = fowler_cites.cited_case.str[:4]\n",
    "fowler_cites[fowler_cites['citing_year'] < fowler_cites['cited_year']]"
   ]
  },
  {
   "cell_type": "code",
   "execution_count": null,
   "id": "ac6307a3",
   "metadata": {},
   "outputs": [],
   "source": []
  }
 ],
 "metadata": {
  "kernelspec": {
   "display_name": "Python 3 (ipykernel)",
   "language": "python",
   "name": "python3"
  },
  "language_info": {
   "codemirror_mode": {
    "name": "ipython",
    "version": 3
   },
   "file_extension": ".py",
   "mimetype": "text/x-python",
   "name": "python",
   "nbconvert_exporter": "python",
   "pygments_lexer": "ipython3",
   "version": "3.8.5"
  }
 },
 "nbformat": 4,
 "nbformat_minor": 5
}
